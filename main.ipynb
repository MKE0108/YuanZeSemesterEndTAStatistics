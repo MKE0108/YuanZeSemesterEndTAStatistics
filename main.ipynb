{
 "cells": [
  {
   "cell_type": "markdown",
   "metadata": {},
   "source": [
    "### 資料整理"
   ]
  },
  {
   "cell_type": "code",
   "execution_count": null,
   "metadata": {},
   "outputs": [],
   "source": [
    "import pandas as pd\n",
    "#read xlsx file\n",
    "#add row names\n",
    "A_df = pd.read_excel('A.xlsx', header=None, names=['id', 'name',\"en_name\" ,'methods',\"Nationality\",\"class\",\"mail\"])\n",
    "#remvoe methods == NaN\n",
    "A_df = A_df.dropna(subset=['methods'])\n",
    "A_df = A_df[['id','methods']]\n",
    "#convert id to int\n",
    "A_df['id'] = A_df['id'].astype(int)\n",
    "\n",
    "B_df=pd.read_excel('B.xls', header=None)\n",
    "#remove the first row,second row\n",
    "B_df = B_df.drop([0,1])\n",
    "#set the first row as the column names\n",
    "B_df.columns = B_df.iloc[0]\n",
    "#keep rows(期末考) to numeric,如果不是数字，转换为NaN\n",
    "B_df['總成績'] = pd.to_numeric(B_df['總成績'], errors='coerce')\n",
    "#只保留期末考不是NaN的行\n",
    "B_df = B_df.dropna(subset=['總成績'])\n",
    "#只留下前三行跟總成績\n",
    "B_df = B_df[['學號','總成績']]\n",
    "#rename columns\n",
    "B_df.columns = ['id','score']\n",
    "#merge two dataframes\n",
    "B_df[['id']]=B_df[['id']].astype(int)\n",
    "result = pd.merge(B_df, A_df, on='id')\n",
    "#drop id column\n",
    "result = result.drop(columns=['id'])\n",
    "#sort by score\n",
    "result = result.sort_values(by='score', ascending=False)\n",
    "#add rank column\n",
    "result['rank'] = result.rank(ascending=False,method='min')['score'].astype(int)\n",
    "#add pass if score if(>=60) \"Y\" else NA\n",
    "result['pass'] = result['score'].apply(lambda x: 'Y' if x>=60 else '')\n",
    "#add top 30%\n",
    "result['top30'] = result['rank'].apply(lambda x: 'Y' if x<=result.shape[0]*0.3 else '')\n",
    "result=result.reset_index(drop=True)\n",
    "# 改成 methods, score, rank, pass, top30\n",
    "result = result[['methods','score','rank','pass','top30']]\n",
    "result"
   ]
  },
  {
   "cell_type": "markdown",
   "metadata": {},
   "source": [
    "### 成績分析表"
   ]
  },
  {
   "cell_type": "code",
   "execution_count": null,
   "metadata": {},
   "outputs": [],
   "source": [
    "#建立df,col_names=[\"入學管道\",\"該科及格人數\",\"該科前30%人數\",\"該科期末成績排名百分比\"]\n",
    "df = pd.DataFrame(columns=[\"入學管道\",\"學生人數\",\"該科及格人數比例\",\"該科前30%人數比例\",\"該科期末成績排名百分比例\"])\n",
    "entry_methods = [\"大學考試入學\",\"大學甄選入學個人申請\",\"大學甄選入學繁星推薦\",\"外國學生申請入學\",\n",
    "                 \"寒假大學轉學考\",\"僑生/個人申請\",\"僑生分發/僑大先修班分發\"]\n",
    "for entry_method in entry_methods:\n",
    "    #計算該科及格人數(非''的數量)\n",
    "    pass_num = (result[result['methods']==entry_method]['pass']=='Y').sum()\n",
    "    top30_num = (result[result['methods']==entry_method]['top30']=='Y').sum()\n",
    "    students_num = result[result['methods']==entry_method].shape[0]\n",
    "    #該科期末成績排名百分比例 算式=(該管道學生名次加總/該管道學生人數)/全班人數\n",
    "    rank_percent = result[result['methods']==entry_method]['rank'].sum()/students_num/result.shape[0]\n",
    "    new_row = pd.DataFrame({'入學管道': [entry_method], '該科及格人數比例': [pass_num/students_num], \n",
    "                            '該科前30%人數比例': [top30_num/students_num], \n",
    "                            '該科期末成績排名百分比例': [rank_percent], '學生人數': [students_num]})\n",
    "    df = pd.concat([df, new_row], ignore_index=True)\n",
    "\n",
    "#計算全班及格人數\n",
    "pass_num = (result['pass']=='Y').sum()\n",
    "students_num = result.shape[0]\n",
    "new_row = pd.DataFrame({'入學管道': ['全班'], '該科及格人數比例': [pass_num/students_num], '學生人數': [students_num]})\n",
    "df = pd.concat([df, new_row], ignore_index=True)\n",
    "#convert to % if na is na\n",
    "df['該科及格人數比例'] = df['該科及格人數比例'].apply(lambda x: '{:.2%}'.format(x) if not pd.isna(x) else x)\n",
    "df['該科前30%人數比例'] = df['該科前30%人數比例'].apply(lambda x: '{:.2%}'.format(x) if not pd.isna(x) else x)\n",
    "df['該科期末成績排名百分比例'] = df['該科期末成績排名百分比例'].apply(lambda x: '{:.2%}'.format(x) if not pd.isna(x) else x)\n",
    "#save to csv\n",
    "df.to_csv('成績分析表.csv', index=False, encoding='big5')"
   ]
  },
  {
   "cell_type": "markdown",
   "metadata": {},
   "source": [
    "### 全班原始成績"
   ]
  },
  {
   "cell_type": "code",
   "execution_count": 3,
   "metadata": {},
   "outputs": [],
   "source": [
    "#copy the result to df1\n",
    "df1=result.copy()\n",
    "#rename columns\n",
    "df1.columns = ['入學管道','分數','名次','及格','前30%']\n",
    "#建立一個dataframe colsnames = [學期,課號,班別,課名], len(rows)=result.shape[0]\n",
    "rows = result.shape[0]\n",
    "columns = ['學期','課號','班別','課名']\n",
    "df2 = pd.DataFrame(index=range(rows), columns=columns)\n",
    "#concatenate two dataframes\n",
    "df = pd.concat([df2,df1], axis=1)\n",
    "#save to csv\n",
    "df.to_csv('全班原始成績.csv', index=False,encoding='big5')"
   ]
  },
  {
   "cell_type": "code",
   "execution_count": 4,
   "metadata": {},
   "outputs": [],
   "source": [
    "#基於entry_methods建立box plot(plotly)\n",
    "entry_methods = [\"大學考試入學\",\"大學甄選入學個人申請\",\"大學甄選入學繁星推薦\",\"外國學生申請入學\",\"寒假大學轉學考\",\"僑生/個人申請\",\"僑生分發/僑大先修班分發\"]\n",
    "import plotly.express as px\n",
    "import plotly.graph_objects as go\n",
    "fig = go.Figure()\n",
    "for entry_method in entry_methods:\n",
    "    fig.add_trace(go.Box(y=result[result['methods']==entry_method]['score'], name=entry_method))\n",
    "fig.update_layout(title_text='各入學管道成績分布')\n",
    "#save to html\n",
    "fig.write_html('各入學管道成績分布.html')"
   ]
  }
 ],
 "metadata": {
  "kernelspec": {
   "display_name": "py39torch",
   "language": "python",
   "name": "python3"
  },
  "language_info": {
   "codemirror_mode": {
    "name": "ipython",
    "version": 3
   },
   "file_extension": ".py",
   "mimetype": "text/x-python",
   "name": "python",
   "nbconvert_exporter": "python",
   "pygments_lexer": "ipython3",
   "version": "3.12.4"
  }
 },
 "nbformat": 4,
 "nbformat_minor": 2
}
